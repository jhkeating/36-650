{
 "cells": [
  {
   "cell_type": "code",
   "execution_count": 4,
   "metadata": {},
   "outputs": [],
   "source": [
    "# removes keys in list l from dictionary d\n",
    "def delete_keys(l, d):\n",
    "     for key in l:\n",
    "        # check that key exists in dictionary before removing\n",
    "        if key in d:\n",
    "            d.pop(key)\n",
    "        return d"
   ]
  },
  {
   "cell_type": "code",
   "execution_count": 5,
   "metadata": {},
   "outputs": [
    {
     "name": "stdout",
     "output_type": "stream",
     "text": [
      "{'firstName': 'Mohamed', 'birthYear': 1990, 'nationality': 'Egyptian'}\n"
     ]
    }
   ],
   "source": [
    "# test case\n",
    "\n",
    "d = {\"firstName\":\"Mohamed\", \"lastName\":\"Farag\", \"birthYear\":1990, \"nationality\":\"Egyptian\"}\n",
    "print(delete_keys([\"lastName\",\"birthYear\",\"favoriteColor\"], d))"
   ]
  }
 ],
 "metadata": {
  "kernelspec": {
   "display_name": "Python 3",
   "language": "python",
   "name": "python3"
  },
  "language_info": {
   "codemirror_mode": {
    "name": "ipython",
    "version": 3
   },
   "file_extension": ".py",
   "mimetype": "text/x-python",
   "name": "python",
   "nbconvert_exporter": "python",
   "pygments_lexer": "ipython3",
   "version": "3.6.5"
  }
 },
 "nbformat": 4,
 "nbformat_minor": 4
}
