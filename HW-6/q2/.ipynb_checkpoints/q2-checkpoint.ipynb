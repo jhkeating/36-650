{
 "cells": [
  {
   "cell_type": "code",
   "execution_count": 37,
   "metadata": {},
   "outputs": [],
   "source": [
    "class Queue:\n",
    "    inner_list = []\n",
    "    counter = 0\n",
    "    \n",
    "    def enqueue(self, value):\n",
    "        self.inner_list.insert(0, value)\n",
    "        self.counter = self.counter + 1\n",
    "        \n",
    "    def dequeue(self):\n",
    "        self.counter = self.counter - 1\n",
    "        value = self.inner_list.pop(self.counter)\n",
    "        return value\n",
    "    \n",
    "    def delete(self, value):\n",
    "        # deletes all occurrences of value in self\n",
    "        tmp = []\n",
    "        while (self.counter!=0):\n",
    "            tmp_val = self.dequeue()\n",
    "            if (tmp_val != value):\n",
    "                tmp.append(tmp_val)\n",
    "        for val in tmp:\n",
    "            self.enqueue(val)"
   ]
  },
  {
   "cell_type": "code",
   "execution_count": 38,
   "metadata": {},
   "outputs": [
    {
     "name": "stdout",
     "output_type": "stream",
     "text": [
      "[7, 4, 13, 7, 5]\n",
      "[4, 13, 5]\n",
      "5\n"
     ]
    }
   ],
   "source": [
    "# test case\n",
    "\n",
    "obj = Queue()\n",
    "obj.enqueue(5)\n",
    "obj.enqueue(7)\n",
    "obj.enqueue(13)\n",
    "obj.enqueue(4)\n",
    "obj.enqueue(7)\n",
    "print(obj.inner_list)\n",
    "\n",
    "obj.delete(7)\n",
    "print(obj.inner_list)\n",
    "print(obj.dequeue()) # should return 5"
   ]
  }
 ],
 "metadata": {
  "kernelspec": {
   "display_name": "Python 3",
   "language": "python",
   "name": "python3"
  },
  "language_info": {
   "codemirror_mode": {
    "name": "ipython",
    "version": 3
   },
   "file_extension": ".py",
   "mimetype": "text/x-python",
   "name": "python",
   "nbconvert_exporter": "python",
   "pygments_lexer": "ipython3",
   "version": "3.6.5"
  }
 },
 "nbformat": 4,
 "nbformat_minor": 4
}
